{
  "nbformat": 4,
  "nbformat_minor": 0,
  "metadata": {
    "colab": {
      "name": "Linear Equations.ipynb",
      "provenance": [],
      "collapsed_sections": [],
      "authorship_tag": "ABX9TyOdR198jZRHDhdRrlDqdycV",
      "include_colab_link": true
    },
    "kernelspec": {
      "name": "python3",
      "display_name": "Python 3"
    }
  },
  "cells": [
    {
      "cell_type": "markdown",
      "metadata": {
        "id": "view-in-github",
        "colab_type": "text"
      },
      "source": [
        "<a href=\"https://colab.research.google.com/github/shankareaga/Google-colab-numpy-/blob/main/Linear_Equations.ipynb\" target=\"_parent\"><img src=\"https://colab.research.google.com/assets/colab-badge.svg\" alt=\"Open In Colab\"/></a>"
      ]
    },
    {
      "cell_type": "code",
      "metadata": {
        "id": "ToAI39stM1w0"
      },
      "source": [
        "# The admission fee at a small fair is $1.50 per child and $4 per adult. On a certain day , total 2200 people enter the fair\n",
        "# and total amount collected is $5500. how many childeren and adult attended the fair?\n",
        "# Can be experessed in mathematical formula = x1 + x2 = 2200 (total people, x1 - child, x2 - adult)\n",
        "# 1.5*x1 + 4* x2 = 5500 (rate of child and adult and sum is equal to total amount collected)\n",
        "# It can be converted into matrix form x = (x1 /n x2 - 2x1 matrix) ; A ([1,1], [1.5,4] - 2x2 matrix) ; b = ([2200,5050]) 2x1 matrix\n",
        "# Ax = b >>> x = Inv (A)b \n",
        "# The inverse is slower and less accurate \n",
        "# There are better algorithms to solve linear systems \n",
        "# x = np.linalg.solve(A, b) >>> Yes\n",
        "# x = np.linalg.inv(A).dot(b) >>> No"
      ],
      "execution_count": 1,
      "outputs": []
    },
    {
      "cell_type": "code",
      "metadata": {
        "id": "V48H-WQxPMxz"
      },
      "source": [
        "# solving linear equations \n",
        "import numpy as np\n",
        "a = np.array([[1,1],[1.5,4]])\n",
        "b = np.array([2200, 5050])"
      ],
      "execution_count": 7,
      "outputs": []
    },
    {
      "cell_type": "code",
      "metadata": {
        "id": "O87KKD5KPwrI",
        "outputId": "2e4101a1-fdfe-4fc4-f329-099bea0bc867",
        "colab": {
          "base_uri": "https://localhost:8080/"
        }
      },
      "source": [
        "np.linalg.solve(a, b)"
      ],
      "execution_count": 8,
      "outputs": [
        {
          "output_type": "execute_result",
          "data": {
            "text/plain": [
              "array([1500.,  700.])"
            ]
          },
          "metadata": {
            "tags": []
          },
          "execution_count": 8
        }
      ]
    },
    {
      "cell_type": "code",
      "metadata": {
        "id": "ilXBcfLIP08Q",
        "outputId": "86c89ec6-d130-47ed-efe5-9977af8739d8",
        "colab": {
          "base_uri": "https://localhost:8080/"
        }
      },
      "source": [
        "# try with inverse \n",
        "np.linalg.inv(a).dot(b)"
      ],
      "execution_count": 9,
      "outputs": [
        {
          "output_type": "execute_result",
          "data": {
            "text/plain": [
              "array([1500.,  700.])"
            ]
          },
          "metadata": {
            "tags": []
          },
          "execution_count": 9
        }
      ]
    },
    {
      "cell_type": "code",
      "metadata": {
        "id": "-7-dr5QUQP-v"
      },
      "source": [
        "# results are same in both case and is due to small problem in nature, in very complex problem, there might be error"
      ],
      "execution_count": 10,
      "outputs": []
    },
    {
      "cell_type": "code",
      "metadata": {
        "id": "I6j3jTmnQbp_"
      },
      "source": [
        ""
      ],
      "execution_count": null,
      "outputs": []
    }
  ]
}