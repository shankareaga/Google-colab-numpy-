{
  "nbformat": 4,
  "nbformat_minor": 0,
  "metadata": {
    "colab": {
      "name": "Speed Comparison.ipynb",
      "provenance": [],
      "collapsed_sections": [],
      "authorship_tag": "ABX9TyOs7PoqGenkmWxnkOGRmlNB",
      "include_colab_link": true
    },
    "kernelspec": {
      "name": "python3",
      "display_name": "Python 3"
    }
  },
  "cells": [
    {
      "cell_type": "markdown",
      "metadata": {
        "id": "view-in-github",
        "colab_type": "text"
      },
      "source": [
        "<a href=\"https://colab.research.google.com/github/shankareaga/Google-colab-numpy-/blob/main/Speed_Comparison.ipynb\" target=\"_parent\"><img src=\"https://colab.research.google.com/assets/colab-badge.svg\" alt=\"Open In Colab\"/></a>"
      ]
    },
    {
      "cell_type": "code",
      "metadata": {
        "id": "W-fNeZf5_Cne"
      },
      "source": [
        "## Speed Comparison ##"
      ],
      "execution_count": 1,
      "outputs": []
    },
    {
      "cell_type": "code",
      "metadata": {
        "id": "Nm1H8XXo_KKt"
      },
      "source": [
        "from datetime import datetime"
      ],
      "execution_count": 2,
      "outputs": []
    },
    {
      "cell_type": "code",
      "metadata": {
        "id": "g_Nt36Hv_OnX"
      },
      "source": [
        "# you can also use %timeit"
      ],
      "execution_count": 3,
      "outputs": []
    },
    {
      "cell_type": "code",
      "metadata": {
        "id": "3W109Zmt_UR_"
      },
      "source": [
        "import numpy as np\n",
        "a = np.random.randn(100)\n",
        "b = np.random.randn(100)\n",
        "T = 100000"
      ],
      "execution_count": 4,
      "outputs": []
    },
    {
      "cell_type": "code",
      "metadata": {
        "id": "pO-WW-AR_gvW"
      },
      "source": [
        "# define slow dot product \n",
        "def slow_dot_product(a,b):\n",
        "  result = 0\n",
        "  for e, f in zip(a, b):\n",
        "    result +=e*f\n",
        "  return result "
      ],
      "execution_count": 5,
      "outputs": []
    },
    {
      "cell_type": "code",
      "metadata": {
        "id": "bpJ6Hjsx_-x0"
      },
      "source": [
        "# define faster dot product using numpy \n",
        "t0 = datetime.now()\n",
        "for t in range(T):\n",
        "  slow_dot_product(a,b)\n",
        "\n",
        "dt1 = datetime.now()-t0\n",
        "\n",
        "t0 = datetime.now()\n",
        "for t in range(T):\n",
        "  a.dot(b)\n",
        "dt2 = datetime.now() - t0"
      ],
      "execution_count": 6,
      "outputs": []
    },
    {
      "cell_type": "code",
      "metadata": {
        "id": "J01nrs-UA2Ru",
        "outputId": "bb3efcbb-659e-4041-adff-54ec7d021945",
        "colab": {
          "base_uri": "https://localhost:8080/"
        }
      },
      "source": [
        "print(\"dt1/dt2 : \", dt1.total_seconds()/dt2.total_seconds())"
      ],
      "execution_count": 7,
      "outputs": [
        {
          "output_type": "stream",
          "text": [
            "dt1/dt2 :  65.95151030943674\n"
          ],
          "name": "stdout"
        }
      ]
    },
    {
      "cell_type": "code",
      "metadata": {
        "id": "tW-a11SVBYhH"
      },
      "source": [
        ""
      ],
      "execution_count": 7,
      "outputs": []
    }
  ]
}